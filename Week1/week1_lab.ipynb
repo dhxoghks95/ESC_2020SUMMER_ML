{
 "cells": [
  {
   "cell_type": "markdown",
   "metadata": {},
   "source": [
    "# Week 1 LAB"
   ]
  },
  {
   "cell_type": "markdown",
   "metadata": {},
   "source": [
    "출처 : https://github.com/a-martyn/ISL-python"
   ]
  },
  {
   "cell_type": "code",
   "execution_count": 3,
   "metadata": {},
   "outputs": [],
   "source": [
    "import numpy as np\n",
    "import pandas as pd\n",
    "import seaborn as sns; sns.set()\n",
    "import matplotlib.pyplot as plt\n",
    "import statsmodels.api as sm\n",
    "import statsmodels.formula.api as smf\n",
    "import patsy\n",
    "from sklearn.discriminant_analysis import LinearDiscriminantAnalysis\n",
    "from sklearn.discriminant_analysis import QuadraticDiscriminantAnalysis\n",
    "from sklearn.neighbors import KNeighborsClassifier\n",
    "from sklearn.linear_model import LogisticRegression\n",
    "from sklearn.metrics import confusion_matrix\n",
    "from sklearn import preprocessing\n",
    "from sklearn import datasets\n",
    "from IPython.display import display, HTML"
   ]
  },
  {
   "cell_type": "markdown",
   "metadata": {},
   "source": [
    "# 1. Importing Dataset"
   ]
  },
  {
   "cell_type": "code",
   "execution_count": 4,
   "metadata": {
    "scrolled": true
   },
   "outputs": [
    {
     "data": {
      "text/html": [
       "<div>\n",
       "<style scoped>\n",
       "    .dataframe tbody tr th:only-of-type {\n",
       "        vertical-align: middle;\n",
       "    }\n",
       "\n",
       "    .dataframe tbody tr th {\n",
       "        vertical-align: top;\n",
       "    }\n",
       "\n",
       "    .dataframe thead th {\n",
       "        text-align: right;\n",
       "    }\n",
       "</style>\n",
       "<table border=\"1\" class=\"dataframe\">\n",
       "  <thead>\n",
       "    <tr style=\"text-align: right;\">\n",
       "      <th></th>\n",
       "      <th>Year</th>\n",
       "      <th>Lag1</th>\n",
       "      <th>Lag2</th>\n",
       "      <th>Lag3</th>\n",
       "      <th>Lag4</th>\n",
       "      <th>Lag5</th>\n",
       "      <th>Volume</th>\n",
       "      <th>Today</th>\n",
       "      <th>Direction_Up</th>\n",
       "    </tr>\n",
       "  </thead>\n",
       "  <tbody>\n",
       "    <tr>\n",
       "      <th>0</th>\n",
       "      <td>1990</td>\n",
       "      <td>0.816</td>\n",
       "      <td>1.572</td>\n",
       "      <td>-3.936</td>\n",
       "      <td>-0.229</td>\n",
       "      <td>-3.484</td>\n",
       "      <td>0.154976</td>\n",
       "      <td>-0.270</td>\n",
       "      <td>0</td>\n",
       "    </tr>\n",
       "    <tr>\n",
       "      <th>1</th>\n",
       "      <td>1990</td>\n",
       "      <td>-0.270</td>\n",
       "      <td>0.816</td>\n",
       "      <td>1.572</td>\n",
       "      <td>-3.936</td>\n",
       "      <td>-0.229</td>\n",
       "      <td>0.148574</td>\n",
       "      <td>-2.576</td>\n",
       "      <td>0</td>\n",
       "    </tr>\n",
       "    <tr>\n",
       "      <th>2</th>\n",
       "      <td>1990</td>\n",
       "      <td>-2.576</td>\n",
       "      <td>-0.270</td>\n",
       "      <td>0.816</td>\n",
       "      <td>1.572</td>\n",
       "      <td>-3.936</td>\n",
       "      <td>0.159837</td>\n",
       "      <td>3.514</td>\n",
       "      <td>1</td>\n",
       "    </tr>\n",
       "    <tr>\n",
       "      <th>3</th>\n",
       "      <td>1990</td>\n",
       "      <td>3.514</td>\n",
       "      <td>-2.576</td>\n",
       "      <td>-0.270</td>\n",
       "      <td>0.816</td>\n",
       "      <td>1.572</td>\n",
       "      <td>0.161630</td>\n",
       "      <td>0.712</td>\n",
       "      <td>1</td>\n",
       "    </tr>\n",
       "    <tr>\n",
       "      <th>4</th>\n",
       "      <td>1990</td>\n",
       "      <td>0.712</td>\n",
       "      <td>3.514</td>\n",
       "      <td>-2.576</td>\n",
       "      <td>-0.270</td>\n",
       "      <td>0.816</td>\n",
       "      <td>0.153728</td>\n",
       "      <td>1.178</td>\n",
       "      <td>1</td>\n",
       "    </tr>\n",
       "  </tbody>\n",
       "</table>\n",
       "</div>"
      ],
      "text/plain": [
       "   Year   Lag1   Lag2   Lag3   Lag4   Lag5    Volume  Today  Direction_Up\n",
       "0  1990  0.816  1.572 -3.936 -0.229 -3.484  0.154976 -0.270             0\n",
       "1  1990 -0.270  0.816  1.572 -3.936 -0.229  0.148574 -2.576             0\n",
       "2  1990 -2.576 -0.270  0.816  1.572 -3.936  0.159837  3.514             1\n",
       "3  1990  3.514 -2.576 -0.270  0.816  1.572  0.161630  0.712             1\n",
       "4  1990  0.712  3.514 -2.576 -0.270  0.816  0.153728  1.178             1"
      ]
     },
     "execution_count": 4,
     "metadata": {},
     "output_type": "execute_result"
    }
   ],
   "source": [
    "# Load data\n",
    "weekly_df = pd.read_csv('./data/Weekly.csv')\n",
    "\n",
    "# Check for missing data\n",
    "assert weekly_df.isnull().sum().sum() == 0\n",
    "\n",
    "# Pre-processing\n",
    "weekly_df = pd.get_dummies(weekly_df).drop('Direction_Down', axis=1)\n",
    "weekly_df.head()"
   ]
  },
  {
   "cell_type": "markdown",
   "metadata": {},
   "source": [
    "# 2. Making Scores"
   ]
  },
  {
   "cell_type": "code",
   "execution_count": 8,
   "metadata": {},
   "outputs": [],
   "source": [
    "def confusion_table(confusion_mtx):\n",
    "    \"\"\"Renders a nice confusion table with labels\"\"\"\n",
    "    confusion_df = pd.DataFrame({'y_pred=0': np.append(confusion_mtx[:, 0], confusion_mtx.sum(axis=0)[0]),\n",
    "                                 'y_pred=1': np.append(confusion_mtx[:, 1], confusion_mtx.sum(axis=0)[1]),\n",
    "                                 'Total': np.append(confusion_mtx.sum(axis=1), ''),\n",
    "                                 '': ['y=0', 'y=1', 'Total']}).set_index('')\n",
    "    return confusion_df\n",
    "\n",
    "\n",
    "def positive_observations(y):\n",
    "    # What percentage of observations are positive?\n",
    "    proportion_1 = ((y == 1).sum() / len(y))\n",
    "    pct_1        = np.around(proportion_1*100, decimals=3)\n",
    "    display(HTML('<p><h4>{}%</h4>of observations are positive</p>'.format(pct_1)))\n",
    "\n",
    "\n",
    "# Classifier stats\n",
    "# -------------------------------------------------\n",
    "\n",
    "def prior_error_rate(confusion_matrix):\n",
    "    \"\"\"The prior probability that a result is positive\"\"\"\n",
    "    return 1 - (np.sum(confusion_mtx[1, :]) / np.sum(confusion_mtx))\n",
    "\n",
    "def total_error_rate(confusion_matrix):\n",
    "    \"\"\"Derive total error rate from confusion matrix\"\"\"\n",
    "    return 1 - np.trace(confusion_mtx) / np.sum(confusion_mtx)\n",
    "\n",
    "def true_positive_rate(confusion_mtx):\n",
    "    \"\"\"or sensitivity: the proportion of actual POSITIVES that are correctly identified as such\"\"\"\n",
    "    return confusion_mtx[1, 1] / np.sum(confusion_mtx[1, :])\n",
    "\n",
    "def false_negative_rate(confusion_mtx):\n",
    "    \"\"\"the proportion of actual POSITIVES that are incorrectly identified as negative\"\"\"\n",
    "    return confusion_mtx[1, 0] / np.sum(confusion_mtx[1, :])\n",
    "\n",
    "def false_positive_rate(confusion_mtx):\n",
    "    \"\"\"the proportion of actual NEGATIVES that are incorrectly identified as positives\"\"\"\n",
    "    return confusion_mtx[0, 1] / np.sum(confusion_mtx[0, :])\n",
    "\n",
    "def true_negative_rate(confusion_mtx):\n",
    "    \"\"\"or specificity: the proportion of actual NEGATIVES that are correctly identified as such\"\"\"\n",
    "    return confusion_mtx[0, 0] / np.sum(confusion_mtx[0, :])\n",
    "\n",
    "def positive_predictive_value(confusion_mtx):\n",
    "    \"\"\"or precision: the proportion of predicted positives that are correctly predicted\"\"\"\n",
    "    return confusion_mtx[1, 1] / np.sum(confusion_mtx[:, 1])\n",
    "\n",
    "def negative_predictive_value(confusion_mtx):\n",
    "    \"\"\"the proportion of predicted negatives that are correctly predicted\"\"\"\n",
    "    return confusion_mtx[0, 0] / np.sum(confusion_mtx[:, 0])\n",
    "\n",
    "def classifier_stats(confusion_mtx):\n",
    "    return pd.Series({'prior_error_rate': prior_error_rate(confusion_mtx),\n",
    "                      'total_error_rate': total_error_rate(confusion_mtx),\n",
    "                      'true_positive_rate (sensitivity)': true_positive_rate(confusion_mtx),\n",
    "                      'false_negative_rate': false_negative_rate(confusion_mtx),\n",
    "                      'false_positive_rate': false_positive_rate(confusion_mtx),\n",
    "                      'true_negative_rate (specificity)': true_negative_rate(confusion_mtx),\n",
    "                      'positive_predictive_value (precision)': positive_predictive_value(confusion_mtx),\n",
    "                      'negative_predictive_value': negative_predictive_value(confusion_mtx)})\n"
   ]
  },
  {
   "cell_type": "markdown",
   "metadata": {},
   "source": [
    "# Example) Logistic "
   ]
  },
  {
   "cell_type": "code",
   "execution_count": 11,
   "metadata": {},
   "outputs": [
    {
     "data": {
      "text/html": [
       "<p><h4>58.654%</h4>of observations are positive</p>"
      ],
      "text/plain": [
       "<IPython.core.display.HTML object>"
      ]
     },
     "metadata": {},
     "output_type": "display_data"
    },
    {
     "name": "stdout",
     "output_type": "stream",
     "text": [
      "Optimization terminated successfully.\n",
      "         Current function value: 0.685555\n",
      "         Iterations 4\n"
     ]
    },
    {
     "data": {
      "text/html": [
       "<div>\n",
       "<style scoped>\n",
       "    .dataframe tbody tr th:only-of-type {\n",
       "        vertical-align: middle;\n",
       "    }\n",
       "\n",
       "    .dataframe tbody tr th {\n",
       "        vertical-align: top;\n",
       "    }\n",
       "\n",
       "    .dataframe thead th {\n",
       "        text-align: right;\n",
       "    }\n",
       "</style>\n",
       "<table border=\"1\" class=\"dataframe\">\n",
       "  <thead>\n",
       "    <tr style=\"text-align: right;\">\n",
       "      <th></th>\n",
       "      <th>y_pred=0</th>\n",
       "      <th>y_pred=1</th>\n",
       "      <th>Total</th>\n",
       "    </tr>\n",
       "    <tr>\n",
       "      <th></th>\n",
       "      <th></th>\n",
       "      <th></th>\n",
       "      <th></th>\n",
       "    </tr>\n",
       "  </thead>\n",
       "  <tbody>\n",
       "    <tr>\n",
       "      <th>y=0</th>\n",
       "      <td>9</td>\n",
       "      <td>34</td>\n",
       "      <td>43</td>\n",
       "    </tr>\n",
       "    <tr>\n",
       "      <th>y=1</th>\n",
       "      <td>5</td>\n",
       "      <td>56</td>\n",
       "      <td>61</td>\n",
       "    </tr>\n",
       "    <tr>\n",
       "      <th>Total</th>\n",
       "      <td>14</td>\n",
       "      <td>90</td>\n",
       "      <td></td>\n",
       "    </tr>\n",
       "  </tbody>\n",
       "</table>\n",
       "</div>"
      ],
      "text/plain": [
       "       y_pred=0  y_pred=1 Total\n",
       "                               \n",
       "y=0           9        34    43\n",
       "y=1           5        56    61\n",
       "Total        14        90      "
      ]
     },
     "metadata": {},
     "output_type": "display_data"
    },
    {
     "data": {
      "text/plain": [
       "prior_error_rate                         0.413462\n",
       "total_error_rate                         0.375000\n",
       "true_positive_rate (sensitivity)         0.918033\n",
       "false_negative_rate                      0.081967\n",
       "false_positive_rate                      0.790698\n",
       "true_negative_rate (specificity)         0.209302\n",
       "positive_predictive_value (precision)    0.622222\n",
       "negative_predictive_value                0.642857\n",
       "dtype: float64"
      ]
     },
     "execution_count": 11,
     "metadata": {},
     "output_type": "execute_result"
    }
   ],
   "source": [
    "# Create hold-out sets\n",
    "train_idx       = weekly_df.index[weekly_df['Year'] < 2009]\n",
    "weekly_df_train = weekly_df.iloc[train_idx]\n",
    "weekly_df_test  = weekly_df.drop(train_idx)\n",
    "y_test          = weekly_df_test['Direction_Up']\n",
    "\n",
    "\n",
    "# What percentage of observations are in the direction_up class?\n",
    "positive_observations(weekly_df_test['Direction_Up'])\n",
    "\n",
    "# Fit model\n",
    "f_10d     = 'Direction_Up ~ Lag2'\n",
    "model_10d = smf.logit(formula=f_10d, data=weekly_df_train).fit()\n",
    "\n",
    "# Get confusion matrix using test data\n",
    "threshold     = 0.5\n",
    "y_pred_logit   = (model_10d.predict(weekly_df_test) > threshold).astype(int)\n",
    "confusion_mtx = confusion_matrix(y_test, y_pred_logit)\n",
    "\n",
    "# Render as nice table\n",
    "display(confusion_table(confusion_mtx))\n",
    "\n",
    "# Classifier stats\n",
    "logit_stats = classifier_stats(confusion_mtx)\n",
    "logit_stats"
   ]
  },
  {
   "cell_type": "markdown",
   "metadata": {},
   "source": [
    "# 1. Do it by LDA"
   ]
  },
  {
   "cell_type": "markdown",
   "metadata": {},
   "source": [
    "# Fit model\n",
    "lda = LinearDiscriminantAnalysis()\n",
    "\n",
    "model_10e = lda.fit(X_train, y_train)"
   ]
  },
  {
   "cell_type": "markdown",
   "metadata": {},
   "source": [
    "# 2. by QDA"
   ]
  },
  {
   "cell_type": "markdown",
   "metadata": {},
   "source": [
    "# Fit model\n",
    "qda = QuadraticDiscriminantAnalysis()\n",
    "\n",
    "model_10f = qda.fit(X_train, y_train)"
   ]
  },
  {
   "cell_type": "markdown",
   "metadata": {},
   "source": [
    "# 3. by KNN"
   ]
  },
  {
   "cell_type": "markdown",
   "metadata": {},
   "source": [
    "# Fit Model\n",
    "\n",
    "K = 1\n",
    "model_10g = KNeighborsClassifier(n_neighbors=K).fit(X_train, y_train)\n",
    "\n",
    "y_pred_knn = model_10g.predict(X_test)"
   ]
  }
 ],
 "metadata": {
  "kernelspec": {
   "display_name": "Python 3",
   "language": "python",
   "name": "python3"
  },
  "language_info": {
   "codemirror_mode": {
    "name": "ipython",
    "version": 3
   },
   "file_extension": ".py",
   "mimetype": "text/x-python",
   "name": "python",
   "nbconvert_exporter": "python",
   "pygments_lexer": "ipython3",
   "version": "3.8.3"
  }
 },
 "nbformat": 4,
 "nbformat_minor": 4
}
